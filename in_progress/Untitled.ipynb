{
 "cells": [
  {
   "cell_type": "code",
   "execution_count": 1,
   "metadata": {},
   "outputs": [
    {
     "name": "stdout",
     "output_type": "stream",
     "text": [
      "Wall time: 9.14 ms\n",
      "Wall time: 0 ns\n",
      "20.9 ms ± 4.68 ms per loop (mean ± std. dev. of 7 runs, 100 loops each)\n",
      "2.52 ms ± 725 µs per loop (mean ± std. dev. of 7 runs, 1000 loops each)\n"
     ]
    },
    {
     "name": "stderr",
     "output_type": "stream",
     "text": [
      "UsageError: Line magic function `%%time` not found.\n"
     ]
    }
   ],
   "source": [
    "import numpy as np\n",
    "from numpy.random import randint\n",
    "\n",
    "# A function to simulate one million dice throws.\n",
    "def one_million_dice():\n",
    "    return randint(low=1, high=7, size=1000000)\n",
    "\n",
    "# Let's try %time first\n",
    "%time throws = one_million_dice()\n",
    "%time mean = np.mean(throws)\n",
    "\n",
    "# Outputs:\n",
    "# Wall time: 20.6 ms\n",
    "# Wall time: 3.01 ms\n",
    "\n",
    "# Let's do the same with %timeit\n",
    "%timeit throws = one_million_dice()\n",
    "%timeit mean = np.mean(throws)\n",
    "\n",
    "# Outputs:\n",
    "# 10 loops, best of 3: 22.2 ms per loop\n",
    "# 100 loops, best of 3: 2.86 ms per loop\n",
    "\n",
    "# And finally %%time\n",
    "%%time\n",
    "throws = one_million_dice()\n",
    "mean = np.mean(throws)\n",
    "\n",
    "# Outputs:\n",
    "# Wall time: 36.6 ms\n"
   ]
  }
 ],
 "metadata": {
  "kernelspec": {
   "display_name": "Python 3",
   "language": "python",
   "name": "python3"
  },
  "language_info": {
   "codemirror_mode": {
    "name": "ipython",
    "version": 3
   },
   "file_extension": ".py",
   "mimetype": "text/x-python",
   "name": "python",
   "nbconvert_exporter": "python",
   "pygments_lexer": "ipython3",
   "version": "3.7.3"
  }
 },
 "nbformat": 4,
 "nbformat_minor": 2
}
