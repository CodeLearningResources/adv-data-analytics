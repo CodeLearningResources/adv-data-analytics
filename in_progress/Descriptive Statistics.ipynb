{
 "cells": [
  {
   "cell_type": "markdown",
   "metadata": {},
   "source": [
    "1. Definition of Descriptive Statistics\n",
    "Descriptive statistics are one of the fundamental “must knows” with any set of data. It gives you a general idea of trends in your data including:\n",
    "* The mean, mode, median and range.\n",
    "* Variance and standard deviation.\n",
    "* Skewness.\n",
    "* Count, maximum and minimum.\n",
    "\n",
    "\n",
    "https://www.statisticshowto.datasciencecentral.com/probability-and-statistics/descriptive-statistics/#below"
   ]
  },
  {
   "cell_type": "markdown",
   "metadata": {},
   "source": [
    "> Descriptive statistics is useful because it allows you to take a large amount of data and summarize it."
   ]
  },
  {
   "cell_type": "code",
   "execution_count": null,
   "metadata": {},
   "outputs": [],
   "source": [
    "Descriptive statistics can be further broken down into several sub-areas, like:\n",
    "\n",
    "Measures of central tendency.\n",
    "measures of dispersion.\n",
    "Charts & graphs.\n",
    "Shapes of Distributions.\n"
   ]
  },
  {
   "cell_type": "code",
   "execution_count": null,
   "metadata": {},
   "outputs": [],
   "source": [
    "Statistics can be broken down into two areas:\n",
    "\n",
    "Descriptive statistics: describes and summarizes data. You are just describing what the data shows: a trend, a specific feature, or a certain statistic (like a mean or median).\n",
    "Inferential statistics: uses statistics to make predictions.\n",
    "Descriptive statistics just describes data. For example, descriptive statistics about a college could include: the average SAT score for incoming freshmen; the median income of parents; racial makeup of the student body. It says nothing about why the data might exist, or what trends you might be able to see from the data. When you take your data and start to make predictions about future behavior or trends, that’s inferential statistics. Inferential statistics also allows you to take sample data (e.g. from one university) and apply it to a larger population (e.g. all universities in the country)."
   ]
  },
  {
   "cell_type": "code",
   "execution_count": null,
   "metadata": {},
   "outputs": [],
   "source": []
  }
 ],
 "metadata": {
  "kernelspec": {
   "display_name": "Python 3",
   "language": "python",
   "name": "python3"
  },
  "language_info": {
   "codemirror_mode": {
    "name": "ipython",
    "version": 3
   },
   "file_extension": ".py",
   "mimetype": "text/x-python",
   "name": "python",
   "nbconvert_exporter": "python",
   "pygments_lexer": "ipython3",
   "version": "3.7.3"
  }
 },
 "nbformat": 4,
 "nbformat_minor": 2
}
