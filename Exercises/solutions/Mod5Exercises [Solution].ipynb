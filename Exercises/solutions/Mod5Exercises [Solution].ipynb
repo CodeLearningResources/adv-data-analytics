{
 "cells": [
  {
   "cell_type": "markdown",
   "metadata": {},
   "source": [
    "# Module 5 Exercises - Time Series"
   ]
  },
  {
   "cell_type": "markdown",
   "metadata": {},
   "source": [
    "### Exercise 1:\n",
    "\n",
    "Create a numPy datetime variable with today's date. Then create 7 consecutive days (1 week) starting from the variable with today's date."
   ]
  },
  {
   "cell_type": "code",
   "execution_count": 3,
   "metadata": {},
   "outputs": [],
   "source": [
    "import pandas as pd\n",
    "import numpy as np    \n",
    "import seaborn; seaborn.set()\n",
    "import matplotlib.pyplot as plt\n",
    "\n",
    "from datetime import datetime   #daytime type 584 year back and futer\n",
    "\n",
    "%matplotlib inline"
   ]
  },
  {
   "cell_type": "code",
   "execution_count": 4,
   "metadata": {},
   "outputs": [],
   "source": [
    "date = np.array('2018-04-04', dtype=np.datetime64)"
   ]
  },
  {
   "cell_type": "code",
   "execution_count": 5,
   "metadata": {},
   "outputs": [
    {
     "data": {
      "text/plain": [
       "array('2018-04-04', dtype='datetime64[D]')"
      ]
     },
     "execution_count": 5,
     "metadata": {},
     "output_type": "execute_result"
    }
   ],
   "source": [
    "date"
   ]
  },
  {
   "cell_type": "code",
   "execution_count": 6,
   "metadata": {},
   "outputs": [
    {
     "data": {
      "text/plain": [
       "array(['2018-04-04', '2018-04-05', '2018-04-06', '2018-04-07',\n",
       "       '2018-04-08', '2018-04-09', '2018-04-10'], dtype='datetime64[D]')"
      ]
     },
     "execution_count": 6,
     "metadata": {},
     "output_type": "execute_result"
    }
   ],
   "source": [
    "date + np.arange(7)"
   ]
  },
  {
   "cell_type": "code",
   "execution_count": 7,
   "metadata": {},
   "outputs": [
    {
     "data": {
      "text/plain": [
       "array('2018-04-04', dtype='datetime64[D]')"
      ]
     },
     "execution_count": 7,
     "metadata": {},
     "output_type": "execute_result"
    }
   ],
   "source": [
    "date"
   ]
  },
  {
   "cell_type": "markdown",
   "metadata": {},
   "source": [
    "### Exercise 2:\n",
    "\n",
    "Create a pandas datetime index with the dates 2016-02-11, 2016-07-01, 2016-07-09, 2016-10-08, 2017-02-18, 2017-02-25, 2017-05-02, 2017-08-26, 2017-12-15, and 2018-02-11. Then create a pandas Series with the values 0,1,2,3,4,5,6,7,8, and 9 in a list, with the dates as the index. Get the rows from the year 2017.  "
   ]
  },
  {
   "cell_type": "code",
   "execution_count": 8,
   "metadata": {},
   "outputs": [],
   "source": [
    "index = pd.DatetimeIndex(['2018-04-04', '2018-04-05', '2018-04-06', '2018-04-07',\n",
    "       '2018-04-08', '2018-04-09', '2018-04-10'])\n",
    "data = pd.Series([0,1,2,3,4,5,6], index=index)  #= to make single column"
   ]
  },
  {
   "cell_type": "code",
   "execution_count": 9,
   "metadata": {},
   "outputs": [
    {
     "data": {
      "text/plain": [
       "2018-04-04    0\n",
       "2018-04-05    1\n",
       "2018-04-06    2\n",
       "2018-04-07    3\n",
       "2018-04-08    4\n",
       "2018-04-09    5\n",
       "2018-04-10    6\n",
       "dtype: int64"
      ]
     },
     "execution_count": 9,
     "metadata": {},
     "output_type": "execute_result"
    }
   ],
   "source": [
    "data['2018']"
   ]
  },
  {
   "cell_type": "markdown",
   "metadata": {},
   "source": [
    "### Exercise 3:\n",
    "\n",
    "Convert the following date formats into pandas datetime:\n",
    "\n",
    "- datetime(2017, 12, 15)\n",
    "- 8th of October 2016\n",
    "- 20180211\n",
    "- 2017-02-25\n",
    "- 2019-Jan-16"
   ]
  },
  {
   "cell_type": "code",
   "execution_count": 10,
   "metadata": {},
   "outputs": [],
   "source": [
    "dates = pd.to_datetime([datetime(2017,12,15), \"8th of October 2016\", \"20180211\", \"2017-02-25\", \"2019-Jan-16\"])"
   ]
  },
  {
   "cell_type": "code",
   "execution_count": 11,
   "metadata": {},
   "outputs": [
    {
     "data": {
      "text/plain": [
       "DatetimeIndex(['2017-12-15', '2016-10-08', '2018-02-11', '2017-02-25',\n",
       "               '2019-01-16'],\n",
       "              dtype='datetime64[ns]', freq=None)"
      ]
     },
     "execution_count": 11,
     "metadata": {},
     "output_type": "execute_result"
    }
   ],
   "source": [
    "dates"
   ]
  },
  {
   "cell_type": "markdown",
   "metadata": {},
   "source": [
    "### Exercise 4:\n",
    "\n",
    "Using the pandas library, make a time delta range that has five periods with a 1 hour 45 minute interval."
   ]
  },
  {
   "cell_type": "code",
   "execution_count": 12,
   "metadata": {},
   "outputs": [
    {
     "data": {
      "text/plain": [
       "TimedeltaIndex(['00:00:00', '01:45:00', '03:30:00', '05:15:00', '07:00:00'], dtype='timedelta64[ns]', freq='105T')"
      ]
     },
     "execution_count": 12,
     "metadata": {},
     "output_type": "execute_result"
    }
   ],
   "source": [
    "Times = pd.timedelta_range(0, freq='1H45T', periods=5)\n",
    "Times"
   ]
  },
  {
   "cell_type": "markdown",
   "metadata": {},
   "source": [
    "### Exercise 5:\n",
    "\n",
    "Using the pandas library, create a date range with 20 business days starting from today's date."
   ]
  },
  {
   "cell_type": "code",
   "execution_count": 13,
   "metadata": {},
   "outputs": [
    {
     "data": {
      "text/plain": [
       "DatetimeIndex(['2019-04-04', '2019-04-05', '2019-04-08', '2019-04-09',\n",
       "               '2019-04-10', '2019-04-11', '2019-04-12', '2019-04-15',\n",
       "               '2019-04-16', '2019-04-17', '2019-04-18', '2019-04-19',\n",
       "               '2019-04-22', '2019-04-23', '2019-04-24', '2019-04-25',\n",
       "               '2019-04-26', '2019-04-29', '2019-04-30', '2019-05-01'],\n",
       "              dtype='datetime64[ns]', freq='B')"
      ]
     },
     "execution_count": 13,
     "metadata": {},
     "output_type": "execute_result"
    }
   ],
   "source": [
    "from pandas.tseries.offsets import BDay #.tseries.offsets\n",
    "\n",
    "bizdays = pd.date_range('2019-04-04', periods=20, freq=BDay()) # BUSINESS DAY\n",
    "bizdays"
   ]
  },
  {
   "cell_type": "markdown",
   "metadata": {},
   "source": [
    "### Exercise 6:\n",
    "\n",
    "From [this link](https://notebooks.azure.com/priesterkc/projects/DABmaterial/tree/Lv1%20Data%20Analytics/datasets), download the \"smalltravel.csv\" file and upload it to your datasets folder. Import the traveltime_s.csv file into a dataframe. Resample the average speed column by week using the mean, and plot the graph. \n",
    "\n",
    "**Tip**: You do not need to add the line style in the plot code."
   ]
  },
  {
   "cell_type": "code",
   "execution_count": 14,
   "metadata": {},
   "outputs": [],
   "source": [
    "#df['col'] = pd.to_datetime(df['col'])"
   ]
  },
  {
   "cell_type": "code",
   "execution_count": 15,
   "metadata": {},
   "outputs": [
    {
     "data": {
      "text/html": [
       "<div>\n",
       "<style scoped>\n",
       "    .dataframe tbody tr th:only-of-type {\n",
       "        vertical-align: middle;\n",
       "    }\n",
       "\n",
       "    .dataframe tbody tr th {\n",
       "        vertical-align: top;\n",
       "    }\n",
       "\n",
       "    .dataframe thead th {\n",
       "        text-align: right;\n",
       "    }\n",
       "</style>\n",
       "<table border=\"1\" class=\"dataframe\">\n",
       "  <thead>\n",
       "    <tr style=\"text-align: right;\">\n",
       "      <th></th>\n",
       "      <th>GoingTo</th>\n",
       "      <th>AvgSpeed</th>\n",
       "      <th>MovingTime</th>\n",
       "    </tr>\n",
       "    <tr>\n",
       "      <th>Date</th>\n",
       "      <th></th>\n",
       "      <th></th>\n",
       "      <th></th>\n",
       "    </tr>\n",
       "  </thead>\n",
       "  <tbody>\n",
       "    <tr>\n",
       "      <th>2012-01-06</th>\n",
       "      <td>Home</td>\n",
       "      <td>78.3</td>\n",
       "      <td>36.3</td>\n",
       "    </tr>\n",
       "    <tr>\n",
       "      <th>2012-01-06</th>\n",
       "      <td>GSK</td>\n",
       "      <td>81.8</td>\n",
       "      <td>34.9</td>\n",
       "    </tr>\n",
       "    <tr>\n",
       "      <th>2012-01-04</th>\n",
       "      <td>Home</td>\n",
       "      <td>82.0</td>\n",
       "      <td>35.9</td>\n",
       "    </tr>\n",
       "    <tr>\n",
       "      <th>2012-01-04</th>\n",
       "      <td>GSK</td>\n",
       "      <td>74.2</td>\n",
       "      <td>35.6</td>\n",
       "    </tr>\n",
       "    <tr>\n",
       "      <th>2012-01-03</th>\n",
       "      <td>Home</td>\n",
       "      <td>83.4</td>\n",
       "      <td>34.8</td>\n",
       "    </tr>\n",
       "  </tbody>\n",
       "</table>\n",
       "</div>"
      ],
      "text/plain": [
       "           GoingTo  AvgSpeed  MovingTime\n",
       "Date                                    \n",
       "2012-01-06    Home      78.3        36.3\n",
       "2012-01-06     GSK      81.8        34.9\n",
       "2012-01-04    Home      82.0        35.9\n",
       "2012-01-04     GSK      74.2        35.6\n",
       "2012-01-03    Home      83.4        34.8"
      ]
     },
     "execution_count": 15,
     "metadata": {},
     "output_type": "execute_result"
    }
   ],
   "source": [
    "traveldf = pd.read_csv(\"datasets/smalltravel.csv\", index_col='Date', parse_dates=True)\n",
    "traveldf.head()"
   ]
  },
  {
   "cell_type": "markdown",
   "metadata": {},
   "source": [
    "## Resampling Data\n",
    "\n",
    "The resample method in pandas is similar to its groupby method as you are essentially grouping by a certain time span. You then specify a method of how you would like to resample.\n",
    "\n",
    "So we’ll start with resampling the speed of our car:\n",
    "\n",
    "df.speed.resample() will be used to resample the speed column of our DataFrame\n",
    "The 'W' indicates we want to resample by week. ```mean()``` is used to indicate we want the mean speed during this period.\n",
    "\n",
    "```python\n",
    "weekly = traveldf['AvgSpeed'].resample('W').mean()\n",
    "weekly.plot()\n",
    "```\n",
    "\n",
    "### Resampling options\n",
    "pandas comes with many in-built options for resampling, and you can even define your own methods.\n",
    "\n",
    "In terms of date ranges, the following is a table for common time period options when resampling a time series:\n",
    "\n",
    "|Alias|Description|\n",
    "| :----------: | -----------: |\n",
    "B|Business day\n",
    "D|Calendar day\n",
    "W|Weekly\n",
    "M|Month end\n",
    "Q|Quarter end\n",
    "A|Year end\n",
    "BA|Business year end\n",
    "AS|Year start\n",
    "H|Hourly frequency\n",
    "T, min|Minutely frequency\n",
    "S|Secondly frequency\n",
    "\n",
    "More Details: http://benalexkeen.com/resampling-time-series-data-with-pandas/"
   ]
  },
  {
   "cell_type": "code",
   "execution_count": 16,
   "metadata": {},
   "outputs": [
    {
     "data": {
      "text/plain": [
       "<matplotlib.axes._subplots.AxesSubplot at 0x1c648e5b5f8>"
      ]
     },
     "execution_count": 16,
     "metadata": {},
     "output_type": "execute_result"
    },
    {
     "data": {
      "image/png": "[encoded data removed]",
      "text/plain": [
       "<Figure size 432x288 with 1 Axes>"
      ]
     },
     "metadata": {
      "needs_background": "light"
     },
     "output_type": "display_data"
    }
   ],
   "source": [
    "weekly = traveldf['AvgSpeed'].resample('W').mean()\n",
    "weekly.plot()"
   ]
  },
  {
   "cell_type": "markdown",
   "metadata": {},
   "source": [
    "### Exercise 7:\n",
    "\n",
    "Using the dataframe from the previous exercise, write code to group the moving time column by day of the week, then plot the graph.\n",
    "\n",
    "**Tip**: The index list only needs to contain the weekdays. You do not need to add the line style in the plot code."
   ]
  },
  {
   "cell_type": "code",
   "execution_count": 17,
   "metadata": {},
   "outputs": [
    {
     "data": {
      "text/plain": [
       "Int64Index([4, 4, 2, 2, 1, 1, 0, 0, 4, 3,\n",
       "            ...\n",
       "            3, 2, 2, 1, 1, 0, 3, 2, 1, 0],\n",
       "           dtype='int64', name='Date', length=205)"
      ]
     },
     "execution_count": 17,
     "metadata": {},
     "output_type": "execute_result"
    }
   ],
   "source": [
    "traveldf.index.dayofweek"
   ]
  },
  {
   "cell_type": "code",
   "execution_count": 11,
   "metadata": {},
   "outputs": [
    {
     "data": {
      "text/plain": [
       "<matplotlib.axes._subplots.AxesSubplot at 0x2742c174e48>"
      ]
     },
     "execution_count": 11,
     "metadata": {},
     "output_type": "execute_result"
    },
    {
     "data": {
      "image/png": "[encoded data removed]",
      "text/plain": [
       "<Figure size 432x288 with 1 Axes>"
      ]
     },
     "metadata": {
      "needs_background": "light"
     },
     "output_type": "display_data"
    }
   ],
   "source": [
    "by_weekday = traveldf['MovingTime'].groupby(traveldf.index.dayofweek).mean()\n",
    "by_weekday.index = ['Mon', 'Tue', 'Wed', 'Thur', 'Fri']\n",
    "by_weekday.plot()"
   ]
  },
  {
   "cell_type": "code",
   "execution_count": null,
   "metadata": {},
   "outputs": [],
   "source": []
  },
  {
   "cell_type": "code",
   "execution_count": null,
   "metadata": {},
   "outputs": [],
   "source": []
  }
 ],
 "metadata": {
  "kernelspec": {
   "display_name": "Python 3",
   "language": "python",
   "name": "python3"
  },
  "language_info": {
   "codemirror_mode": {
    "name": "ipython",
    "version": 3
   },
   "file_extension": ".py",
   "mimetype": "text/x-python",
   "name": "python",
   "nbconvert_exporter": "python",
   "pygments_lexer": "ipython3",
   "version": "3.7.3"
  }
 },
 "nbformat": 4,
 "nbformat_minor": 2
}
