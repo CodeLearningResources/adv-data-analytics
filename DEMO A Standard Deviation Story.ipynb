{
 "cells": [
  {
   "cell_type": "markdown",
   "metadata": {},
   "source": [
    "CRACKING PROBABILITY & STATISTICS\n",
    "***\n",
    "# A Standard Deviation Story\n",
    "\n",
    "Once there was a football coach who divided his physical education class into groups of five students and, unfair as it may seem, gave everyone in each group the same grade. The grades were based on the average performance of *each* group. Here's how two groups of five students compared in the activity called \"pull up\". In group one, Fred and John both did 7 pull ups, and the other members of the group did 5, 6 and 8. In group two, *Joe Stat did 16* and the others did 1, 10, 2 and 4. When grade time rolled around, the coach had his student teacher average the grades."
   ]
  },
  {
   "cell_type": "code",
   "execution_count": 14,
   "metadata": {},
   "outputs": [],
   "source": [
    "group_1 = [7,7,5,6,8]\n",
    "group_2 = [16,10,2,1,4]"
   ]
  },
  {
   "cell_type": "code",
   "execution_count": 15,
   "metadata": {},
   "outputs": [],
   "source": [
    "def list_sum(list_in):\n",
    "    total = 0\n",
    "    for item in list_in:\n",
    "        total += item\n",
    "    return total"
   ]
  },
  {
   "cell_type": "code",
   "execution_count": 16,
   "metadata": {},
   "outputs": [],
   "source": [
    "def list_avg(list_in):\n",
    "    return list_sum(list_in) / len(list_in)"
   ]
  },
  {
   "cell_type": "code",
   "execution_count": 17,
   "metadata": {},
   "outputs": [
    {
     "name": "stdout",
     "output_type": "stream",
     "text": [
      "Group 1 Mean Average: 6.6\n"
     ]
    }
   ],
   "source": [
    "avg_1 = list_avg(group_1)\n",
    "print(\"Group 1 Mean Average:\",avg_1)"
   ]
  },
  {
   "cell_type": "code",
   "execution_count": 18,
   "metadata": {},
   "outputs": [
    {
     "name": "stdout",
     "output_type": "stream",
     "text": [
      "Group 2 Mean Average: 6.6\n"
     ]
    }
   ],
   "source": [
    "avg_2 = list_avg(group_2)\n",
    "print(\"Group 2 Mean Average:\",avg_2)"
   ]
  },
  {
   "cell_type": "markdown",
   "metadata": {},
   "source": [
    "As you can see, both groups (everyone) got the same grade. And guess who was mad? You guessed it - Joe Stat. Joe complained about this to the coach, but the grades were already turned in and there was nothing which could be done. The coach said that he would have done something about it, if he had only known, but all he saw were group averages and he wasn't about to look at all the individual scores. Joe resolved to find some way to alert the coach to such large variations in a group's performance, so other stars (such as himself), would not be slighted in the future. Later on, Joe took a statistcs class and found what he was looking for - a *measure of how much variation is hidden in averages*. It's called the *standard deviation.*"
   ]
  },
  {
   "cell_type": "markdown",
   "metadata": {},
   "source": [
    "\\begin{equation*}\n",
    "S.D. = { \\sqrt{ \\frac{(\\sum_{1}^{n} (x-\\bar{x})^2)}{N - 1} } }\n",
    "\\end{equation*}"
   ]
  },
  {
   "cell_type": "markdown",
   "metadata": {},
   "source": [
    "Where $\\sum_{1}^{n}$ is a symbol which means the sum from 1 to N.\n",
    "\n",
    "x represents each score  \n",
    "$\\bar{x}$ represents the average score  \n",
    "N is the number of scores  "
   ]
  },
  {
   "cell_type": "markdown",
   "metadata": {},
   "source": [
    "Joe got out his calculator, and found the standard deviation for the two groups of scores. (Remember it was previously calculated that the average score for each group $\\bar{x}$, was 6.6.) The scores,"
   ]
  },
  {
   "cell_type": "code",
   "execution_count": 19,
   "metadata": {},
   "outputs": [
    {
     "name": "stdout",
     "output_type": "stream",
     "text": [
      "Group 1: [7, 7, 5, 6, 8]\n",
      "Group 2: [16, 10, 2, 1, 4]\n"
     ]
    }
   ],
   "source": [
    "print(f\"Group 1: {group_1}\\nGroup 2: {group_2}\")"
   ]
  },
  {
   "cell_type": "code",
   "execution_count": 20,
   "metadata": {},
   "outputs": [],
   "source": [
    "import math"
   ]
  },
  {
   "cell_type": "code",
   "execution_count": 21,
   "metadata": {},
   "outputs": [],
   "source": [
    "# To avoid precision and rounding errors, Python requires us to manually define how we are rounding\n",
    "def round_half_up(n, decimals=0):\n",
    "    multiplier = 10 ** decimals\n",
    "    return math.floor(n*multiplier + 0.5) / multiplier"
   ]
  },
  {
   "cell_type": "code",
   "execution_count": 22,
   "metadata": {},
   "outputs": [],
   "source": [
    "def get_deviation_from_mean(list_in, mean_avg, sig_figs):\n",
    "    new_list = []\n",
    "    for item in list_in:\n",
    "        new_list.append(round_half_up(item - mean_avg, sig_figs))\n",
    "    return new_list"
   ]
  },
  {
   "cell_type": "code",
   "execution_count": 23,
   "metadata": {},
   "outputs": [
    {
     "name": "stdout",
     "output_type": "stream",
     "text": [
      "Deviations from the mean:\n",
      "Group 1: [0.4, 0.4, -1.6, -0.6, 1.4]\n",
      "Group 2: [9.4, 3.4, -4.6, -5.6, -2.6]\n"
     ]
    }
   ],
   "source": [
    "# Find the deviation from the mean\n",
    "deviations_1 = get_deviation_from_mean(group_1, avg_1, 2)\n",
    "deviations_2 = get_deviation_from_mean(group_2, avg_2, 2)\n",
    "print(\"Deviations from the mean:\")\n",
    "print(\"Group 1:\",deviations_1)\n",
    "print(\"Group 2:\",deviations_2)"
   ]
  },
  {
   "cell_type": "code",
   "execution_count": 24,
   "metadata": {},
   "outputs": [
    {
     "name": "stdout",
     "output_type": "stream",
     "text": [
      "Deviations from the mean SQUARED:\n",
      "Group 1: [0.16, 0.16, 2.56, 0.36, 1.96]\n",
      "Group 2: [88.36, 11.56, 21.16, 31.36, 6.76]\n"
     ]
    }
   ],
   "source": [
    "print(\"Deviations from the mean SQUARED:\")\n",
    "print(\"Group 1:\", [round_half_up(i*i,2) for i in deviations_1])\n",
    "print(\"Group 2:\", [round_half_up(i*i,2) for i in deviations_2])"
   ]
  },
  {
   "cell_type": "code",
   "execution_count": 25,
   "metadata": {},
   "outputs": [],
   "source": [
    "def calc_std(list_in, sig_figs):\n",
    "    mean_avg = list_avg(list_in)\n",
    "    deviations = get_deviation_from_mean(list_in, mean_avg, 2)\n",
    "    devs_squared = [round_half_up(i*i,2) for i in deviations]\n",
    "    sum_of_squares = list_sum(devs_squared)\n",
    "    quotient = sum_of_squares / (len(list_in) - 1)\n",
    "    return round_half_up(math.sqrt(quotient), sig_figs)"
   ]
  },
  {
   "cell_type": "code",
   "execution_count": 26,
   "metadata": {},
   "outputs": [
    {
     "name": "stdout",
     "output_type": "stream",
     "text": [
      "Group 1 STD: 1.1401754\n",
      "Group 2 STD: 6.3087241\n"
     ]
    }
   ],
   "source": [
    "std_1 = calc_std(group_1, 7)\n",
    "std_2 = calc_std(group_2, 7)\n",
    "print(\"Group 1 STD:\",std_1)\n",
    "print(\"Group 2 STD:\",std_2)"
   ]
  },
  {
   "cell_type": "markdown",
   "metadata": {},
   "source": [
    "Thus the difference in standard deviation shows that although the average for each group was the same (6.6), the *individual folks* in group 2 differed from this average (above or below it) more than in group one. This measure would be enough to warn the coach!"
   ]
  },
  {
   "cell_type": "markdown",
   "metadata": {},
   "source": [
    "## Bibliograpy:\n",
    "- Great International Math On Keys Book Paperback – Unabridged, January 1, 1976 by Texas Instruments"
   ]
  },
  {
   "cell_type": "markdown",
   "metadata": {},
   "source": [
    "## References:\n",
    "- [Round Half Up Function](https://realpython.com/python-rounding/#pythons-built-in-round-function)\n",
    "- [LaTeX Symbols](https://latex.wikia.org/wiki/List_of_LaTeX_symbols)\n",
    "- [LaTeX Formulas](http://www.malinc.se/math/latex/basiccodeen.php)\n",
    "- [Square Root in Python 3](https://www.tutorialspoint.com/python3/number_sqrt.htm)"
   ]
  },
  {
   "cell_type": "markdown",
   "metadata": {},
   "source": [
    "## Further Reading:\n",
    "- [Intro to LaTeX](https://en.wikibooks.org/wiki/LaTeX/Mathematics)"
   ]
  },
  {
   "cell_type": "markdown",
   "metadata": {},
   "source": [
    "## Glossary\n",
    "\n",
    "**Standard Deviation**: A low measure of Standard Deviation indicates that the data are less spread out, whereas a high value of Standard Deviation shows that the data in a set are spread apart from their mean average values. A useful property of the standard deviation is that, unlike the variance, it is expressed in the same units as the data. [GeeksForGeeks](https://www.geeksforgeeks.org/python-statistics-stdev/)\n",
    "\n",
    "**Further Reading from Wikikipedia:** Standard deviation is a number used to tell how measurements for a group are spread out from the average (mean), or expected value. A low standard deviation means that most of the numbers are close to the average. A high standard deviation means that the numbers are more spread out.\n",
    "\n",
    "The reported margin of error is usually twice the standard deviation. Scientists commonly report the standard deviation of numbers from the average number in experiments. They often decide that only differences bigger than two or three times the standard deviation are important. Standard deviation is also useful in money, where the standard deviation on interest earned shows how different one person’s interest earned might be from the average.\n",
    "\n",
    "Many times, only a sample, or part of a group can be measured. Then a number close to the standard deviation for the whole group can be found by a slightly different equation called the sample standard deviation, explained below. [Simple Wikipedia](https://simple.wikipedia.org/wiki/Standard_deviation)"
   ]
  },
  {
   "cell_type": "code",
   "execution_count": null,
   "metadata": {},
   "outputs": [],
   "source": []
  }
 ],
 "metadata": {
  "kernelspec": {
   "display_name": "Python 3",
   "language": "python",
   "name": "python3"
  },
  "language_info": {
   "codemirror_mode": {
    "name": "ipython",
    "version": 3
   },
   "file_extension": ".py",
   "mimetype": "text/x-python",
   "name": "python",
   "nbconvert_exporter": "python",
   "pygments_lexer": "ipython3",
   "version": "3.7.3"
  }
 },
 "nbformat": 4,
 "nbformat_minor": 2
}
